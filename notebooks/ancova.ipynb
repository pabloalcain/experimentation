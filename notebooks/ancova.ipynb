{
 "nbformat": 4,
 "nbformat_minor": 0,
 "metadata": {
  "colab": {
   "provenance": []
  },
  "kernelspec": {
   "name": "python3",
   "display_name": "Python 3 (ipykernel)",
   "language": "python"
  },
  "language_info": {
   "name": "python"
  }
 },
 "cells": [
  {
   "cell_type": "code",
   "metadata": {
    "id": "cvZ-KjTnZoVh",
    "ExecuteTime": {
     "end_time": "2024-09-17T16:19:09.905202Z",
     "start_time": "2024-09-17T16:19:09.100035Z"
    }
   },
   "source": [
    "import matplotlib.pyplot as plt\n",
    "import numpy as np\n",
    "import pandas as pd\n",
    "import scipy as sp"
   ],
   "outputs": [],
   "execution_count": 1
  },
  {
   "cell_type": "code",
   "source": [
    "usuarios = 1_000"
   ],
   "metadata": {
    "id": "EWHmEAHravsa",
    "ExecuteTime": {
     "end_time": "2024-09-17T16:19:09.908199Z",
     "start_time": "2024-09-17T16:19:09.906253Z"
    }
   },
   "outputs": [],
   "execution_count": 2
  },
  {
   "cell_type": "markdown",
   "source": [
    "## Genero el dataset"
   ],
   "metadata": {
    "id": "jjAuim2iqAb_"
   }
  },
  {
   "cell_type": "code",
   "source": [
    "np.random.seed(171)\n",
    "revenue_anterior = np.random.normal(loc=10, scale=2, size=usuarios)\n",
    "revenue_base_nuevo = np.random.normal(revenue_anterior, 0.1)\n",
    "tratamiento = np.random.random(size=usuarios) < 0.5\n",
    "revenue_nuevo = revenue_base_nuevo + 0.4 * tratamiento\n",
    "full_dataset = pd.DataFrame(\n",
    "    {\"Tratamiento\": tratamiento, \"Anterior\": revenue_anterior, \"Revenue\": revenue_nuevo}\n",
    ")"
   ],
   "metadata": {
    "id": "UREDzjKNg246",
    "ExecuteTime": {
     "end_time": "2024-09-17T16:19:09.925835Z",
     "start_time": "2024-09-17T16:19:09.908854Z"
    }
   },
   "outputs": [],
   "execution_count": 3
  },
  {
   "cell_type": "markdown",
   "source": [
    "## Análisis"
   ],
   "metadata": {
    "id": "1QqSCDQEqD38"
   }
  },
  {
   "cell_type": "code",
   "source": [
    "dataset = full_dataset[[\"Tratamiento\", \"Revenue\"]]\n",
    "dataset"
   ],
   "metadata": {
    "colab": {
     "base_uri": "https://localhost:8080/",
     "height": 424
    },
    "id": "jNxqYHj7hJ83",
    "outputId": "12f5db90-a3cd-493b-91a7-e0f031bd3792",
    "ExecuteTime": {
     "end_time": "2024-09-17T16:19:10.003909Z",
     "start_time": "2024-09-17T16:19:09.927263Z"
    }
   },
   "outputs": [
    {
     "data": {
      "text/plain": [
       "     Tratamiento    Revenue\n",
       "0           True  12.139623\n",
       "1           True  10.967258\n",
       "2          False  12.633915\n",
       "3          False  10.653629\n",
       "4           True   9.381743\n",
       "..           ...        ...\n",
       "995         True  10.229276\n",
       "996        False  10.304811\n",
       "997        False   2.248404\n",
       "998         True  10.712687\n",
       "999         True   9.414480\n",
       "\n",
       "[1000 rows x 2 columns]"
      ],
      "text/html": [
       "<div>\n",
       "<style scoped>\n",
       "    .dataframe tbody tr th:only-of-type {\n",
       "        vertical-align: middle;\n",
       "    }\n",
       "\n",
       "    .dataframe tbody tr th {\n",
       "        vertical-align: top;\n",
       "    }\n",
       "\n",
       "    .dataframe thead th {\n",
       "        text-align: right;\n",
       "    }\n",
       "</style>\n",
       "<table border=\"1\" class=\"dataframe\">\n",
       "  <thead>\n",
       "    <tr style=\"text-align: right;\">\n",
       "      <th></th>\n",
       "      <th>Tratamiento</th>\n",
       "      <th>Revenue</th>\n",
       "    </tr>\n",
       "  </thead>\n",
       "  <tbody>\n",
       "    <tr>\n",
       "      <th>0</th>\n",
       "      <td>True</td>\n",
       "      <td>12.139623</td>\n",
       "    </tr>\n",
       "    <tr>\n",
       "      <th>1</th>\n",
       "      <td>True</td>\n",
       "      <td>10.967258</td>\n",
       "    </tr>\n",
       "    <tr>\n",
       "      <th>2</th>\n",
       "      <td>False</td>\n",
       "      <td>12.633915</td>\n",
       "    </tr>\n",
       "    <tr>\n",
       "      <th>3</th>\n",
       "      <td>False</td>\n",
       "      <td>10.653629</td>\n",
       "    </tr>\n",
       "    <tr>\n",
       "      <th>4</th>\n",
       "      <td>True</td>\n",
       "      <td>9.381743</td>\n",
       "    </tr>\n",
       "    <tr>\n",
       "      <th>...</th>\n",
       "      <td>...</td>\n",
       "      <td>...</td>\n",
       "    </tr>\n",
       "    <tr>\n",
       "      <th>995</th>\n",
       "      <td>True</td>\n",
       "      <td>10.229276</td>\n",
       "    </tr>\n",
       "    <tr>\n",
       "      <th>996</th>\n",
       "      <td>False</td>\n",
       "      <td>10.304811</td>\n",
       "    </tr>\n",
       "    <tr>\n",
       "      <th>997</th>\n",
       "      <td>False</td>\n",
       "      <td>2.248404</td>\n",
       "    </tr>\n",
       "    <tr>\n",
       "      <th>998</th>\n",
       "      <td>True</td>\n",
       "      <td>10.712687</td>\n",
       "    </tr>\n",
       "    <tr>\n",
       "      <th>999</th>\n",
       "      <td>True</td>\n",
       "      <td>9.414480</td>\n",
       "    </tr>\n",
       "  </tbody>\n",
       "</table>\n",
       "<p>1000 rows × 2 columns</p>\n",
       "</div>"
      ]
     },
     "execution_count": 4,
     "metadata": {},
     "output_type": "execute_result"
    }
   ],
   "execution_count": 4
  },
  {
   "cell_type": "code",
   "source": [
    "tratado = dataset[dataset[\"Tratamiento\"]][\"Revenue\"]\n",
    "control = dataset[~dataset[\"Tratamiento\"]][\"Revenue\"]"
   ],
   "metadata": {
    "id": "FjMS2uWqhx8w",
    "ExecuteTime": {
     "end_time": "2024-09-17T16:19:10.008722Z",
     "start_time": "2024-09-17T16:19:10.005089Z"
    }
   },
   "outputs": [],
   "execution_count": 5
  },
  {
   "cell_type": "code",
   "source": [
    "fig, (ax1, ax2) = plt.subplots(1, 2, figsize=(20, 10))\n",
    "ax1.hist(tratado, bins=20, alpha=0.3, label=\"Tratado\")\n",
    "ax1.hist(control, bins=20, alpha=0.3, label=\"Control\")\n",
    "ax1.legend()\n",
    "ax1.set_title(\"Distribución empírica\")\n",
    "x = np.linspace(10.0, 10.6, 1000)\n",
    "tratado_mean = sp.stats.norm.pdf(\n",
    "    x, tratado.mean(), tratado.std() / np.sqrt(len(tratado))\n",
    ")\n",
    "control_mean = sp.stats.norm.pdf(\n",
    "    x, control.mean(), control.std() / np.sqrt(len(control))\n",
    ")\n",
    "\n",
    "ax2.plot(x, tratado_mean, label=\"Tratado\")\n",
    "ax2.plot(x, control_mean, label=\"Control\")\n",
    "ax2.set_title(\"Distribución de la media (TCL)\")\n",
    "ax2.legend()"
   ],
   "metadata": {
    "colab": {
     "base_uri": "https://localhost:8080/",
     "height": 485
    },
    "id": "sFHLR_-ziNLn",
    "outputId": "6bd347f5-efd7-41d4-93d2-15630eaa9f82",
    "ExecuteTime": {
     "end_time": "2024-09-17T16:19:10.958017Z",
     "start_time": "2024-09-17T16:19:10.009639Z"
    }
   },
   "outputs": [
    {
     "data": {
      "text/plain": [
       "<matplotlib.legend.Legend at 0x7fec6940a490>"
      ]
     },
     "execution_count": 6,
     "metadata": {},
     "output_type": "execute_result"
    },
    {
     "data": {
      "text/plain": [
       "<Figure size 2000x1000 with 2 Axes>"
      ],
      "image/png": "[encoded data removed]"
     },
     "metadata": {},
     "output_type": "display_data"
    }
   ],
   "execution_count": 6
  },
  {
   "cell_type": "code",
   "source": [
    "sp.stats.ttest_ind(tratado, control)"
   ],
   "metadata": {
    "colab": {
     "base_uri": "https://localhost:8080/"
    },
    "id": "NalHTbGDqc3C",
    "outputId": "cc87a79d-a467-4ebd-a071-92211f3e5f08",
    "ExecuteTime": {
     "end_time": "2024-09-17T16:19:10.963368Z",
     "start_time": "2024-09-17T16:19:10.958777Z"
    }
   },
   "outputs": [
    {
     "data": {
      "text/plain": [
       "TtestResult(statistic=np.float64(1.1067699956819392), pvalue=np.float64(0.2686600805650387), df=np.float64(998.0))"
      ]
     },
     "execution_count": 7,
     "metadata": {},
     "output_type": "execute_result"
    }
   ],
   "execution_count": 7
  },
  {
   "cell_type": "code",
   "source": [
    "from statsmodels.formula.api import ols\n",
    "\n",
    "model = ols(\"Revenue ~ Tratamiento\", data=dataset)\n",
    "results = model.fit()\n",
    "\n",
    "print(results.summary().tables[1])"
   ],
   "metadata": {
    "colab": {
     "base_uri": "https://localhost:8080/"
    },
    "id": "qOW-Vtb-kwVq",
    "outputId": "e6e421b2-af0a-4e47-b227-6367a35163b1",
    "ExecuteTime": {
     "end_time": "2024-09-17T16:19:11.090907Z",
     "start_time": "2024-09-17T16:19:10.964426Z"
    }
   },
   "outputs": [
    {
     "name": "stdout",
     "output_type": "stream",
     "text": [
      "=======================================================================================\n",
      "                          coef    std err          t      P>|t|      [0.025      0.975]\n",
      "---------------------------------------------------------------------------------------\n",
      "Intercept              10.2487      0.085    120.444      0.000      10.082      10.416\n",
      "Tratamiento[T.True]     0.1348      0.122      1.107      0.269      -0.104       0.374\n",
      "=======================================================================================\n"
     ]
    }
   ],
   "execution_count": 8
  },
  {
   "cell_type": "markdown",
   "source": [
    "## Imputación de valores (versión libre)"
   ],
   "metadata": {
    "id": "pV84Bb7hu82j"
   }
  },
  {
   "cell_type": "markdown",
   "source": [
    "### Veamos el dataset entero"
   ],
   "metadata": {
    "id": "hDOMQViCvFTq"
   }
  },
  {
   "cell_type": "code",
   "source": [
    "full_dataset"
   ],
   "metadata": {
    "colab": {
     "base_uri": "https://localhost:8080/",
     "height": 424
    },
    "id": "01tGagmFvCgV",
    "outputId": "41722611-ab6f-4bc4-9535-7c9fc2d6f536",
    "ExecuteTime": {
     "end_time": "2024-09-17T16:19:11.097294Z",
     "start_time": "2024-09-17T16:19:11.091697Z"
    }
   },
   "outputs": [
    {
     "data": {
      "text/plain": [
       "     Tratamiento   Anterior    Revenue\n",
       "0           True  11.591423  12.139623\n",
       "1           True  10.652942  10.967258\n",
       "2          False  12.467048  12.633915\n",
       "3          False  10.685978  10.653629\n",
       "4           True   8.858674   9.381743\n",
       "..           ...        ...        ...\n",
       "995         True   9.747324  10.229276\n",
       "996        False  10.209973  10.304811\n",
       "997        False   2.233162   2.248404\n",
       "998         True  10.369848  10.712687\n",
       "999         True   8.912705   9.414480\n",
       "\n",
       "[1000 rows x 3 columns]"
      ],
      "text/html": [
       "<div>\n",
       "<style scoped>\n",
       "    .dataframe tbody tr th:only-of-type {\n",
       "        vertical-align: middle;\n",
       "    }\n",
       "\n",
       "    .dataframe tbody tr th {\n",
       "        vertical-align: top;\n",
       "    }\n",
       "\n",
       "    .dataframe thead th {\n",
       "        text-align: right;\n",
       "    }\n",
       "</style>\n",
       "<table border=\"1\" class=\"dataframe\">\n",
       "  <thead>\n",
       "    <tr style=\"text-align: right;\">\n",
       "      <th></th>\n",
       "      <th>Tratamiento</th>\n",
       "      <th>Anterior</th>\n",
       "      <th>Revenue</th>\n",
       "    </tr>\n",
       "  </thead>\n",
       "  <tbody>\n",
       "    <tr>\n",
       "      <th>0</th>\n",
       "      <td>True</td>\n",
       "      <td>11.591423</td>\n",
       "      <td>12.139623</td>\n",
       "    </tr>\n",
       "    <tr>\n",
       "      <th>1</th>\n",
       "      <td>True</td>\n",
       "      <td>10.652942</td>\n",
       "      <td>10.967258</td>\n",
       "    </tr>\n",
       "    <tr>\n",
       "      <th>2</th>\n",
       "      <td>False</td>\n",
       "      <td>12.467048</td>\n",
       "      <td>12.633915</td>\n",
       "    </tr>\n",
       "    <tr>\n",
       "      <th>3</th>\n",
       "      <td>False</td>\n",
       "      <td>10.685978</td>\n",
       "      <td>10.653629</td>\n",
       "    </tr>\n",
       "    <tr>\n",
       "      <th>4</th>\n",
       "      <td>True</td>\n",
       "      <td>8.858674</td>\n",
       "      <td>9.381743</td>\n",
       "    </tr>\n",
       "    <tr>\n",
       "      <th>...</th>\n",
       "      <td>...</td>\n",
       "      <td>...</td>\n",
       "      <td>...</td>\n",
       "    </tr>\n",
       "    <tr>\n",
       "      <th>995</th>\n",
       "      <td>True</td>\n",
       "      <td>9.747324</td>\n",
       "      <td>10.229276</td>\n",
       "    </tr>\n",
       "    <tr>\n",
       "      <th>996</th>\n",
       "      <td>False</td>\n",
       "      <td>10.209973</td>\n",
       "      <td>10.304811</td>\n",
       "    </tr>\n",
       "    <tr>\n",
       "      <th>997</th>\n",
       "      <td>False</td>\n",
       "      <td>2.233162</td>\n",
       "      <td>2.248404</td>\n",
       "    </tr>\n",
       "    <tr>\n",
       "      <th>998</th>\n",
       "      <td>True</td>\n",
       "      <td>10.369848</td>\n",
       "      <td>10.712687</td>\n",
       "    </tr>\n",
       "    <tr>\n",
       "      <th>999</th>\n",
       "      <td>True</td>\n",
       "      <td>8.912705</td>\n",
       "      <td>9.414480</td>\n",
       "    </tr>\n",
       "  </tbody>\n",
       "</table>\n",
       "<p>1000 rows × 3 columns</p>\n",
       "</div>"
      ]
     },
     "execution_count": 9,
     "metadata": {},
     "output_type": "execute_result"
    }
   ],
   "execution_count": 9
  },
  {
   "cell_type": "code",
   "source": [
    "full_tratado = full_dataset[full_dataset[\"Tratamiento\"]]\n",
    "full_control = full_dataset[~full_dataset[\"Tratamiento\"]]\n",
    "\n",
    "fig, ax = plt.subplots()\n",
    "ax.plot(\n",
    "    full_tratado[\"Anterior\"],\n",
    "    full_tratado[\"Revenue\"],\n",
    "    label=\"Tratado\",\n",
    "    marker=\".\",\n",
    "    linestyle=\"none\",\n",
    ")\n",
    "ax.plot(\n",
    "    full_control[\"Anterior\"],\n",
    "    full_control[\"Revenue\"],\n",
    "    label=\"Control\",\n",
    "    marker=\".\",\n",
    "    linestyle=\"none\",\n",
    ")\n",
    "ax.set_xlabel(\"Revenue semana anterior\")\n",
    "ax.set_ylabel(\"Revenue semana experimento\")\n",
    "ax.legend()"
   ],
   "metadata": {
    "colab": {
     "base_uri": "https://localhost:8080/",
     "height": 466
    },
    "id": "nhqNq0AQvIlD",
    "outputId": "13ac3273-c425-473c-8631-74b1c7ae9476",
    "ExecuteTime": {
     "end_time": "2024-09-17T16:19:11.342825Z",
     "start_time": "2024-09-17T16:19:11.099516Z"
    }
   },
   "outputs": [
    {
     "data": {
      "text/plain": [
       "<matplotlib.legend.Legend at 0x7fec694c9110>"
      ]
     },
     "execution_count": 10,
     "metadata": {},
     "output_type": "execute_result"
    },
    {
     "data": {
      "text/plain": [
       "<Figure size 640x480 with 1 Axes>"
      ],
      "image/png": "[encoded data removed]"
     },
     "metadata": {},
     "output_type": "display_data"
    }
   ],
   "execution_count": 10
  },
  {
   "cell_type": "code",
   "source": [
    "model = ols(\"Revenue ~ Anterior\", data=full_dataset)\n",
    "results = model.fit()\n",
    "\n",
    "print(results.summary().tables[1])"
   ],
   "metadata": {
    "colab": {
     "base_uri": "https://localhost:8080/"
    },
    "id": "l7VfHuC4xVKv",
    "outputId": "386df6fd-64ff-4b40-cd3a-db218c6dead7",
    "ExecuteTime": {
     "end_time": "2024-09-17T16:19:11.374381Z",
     "start_time": "2024-09-17T16:19:11.347022Z"
    }
   },
   "outputs": [
    {
     "name": "stdout",
     "output_type": "stream",
     "text": [
      "==============================================================================\n",
      "                 coef    std err          t      P>|t|      [0.025      0.975]\n",
      "------------------------------------------------------------------------------\n",
      "Intercept      0.3055      0.037      8.264      0.000       0.233       0.378\n",
      "Anterior       0.9898      0.004    275.689      0.000       0.983       0.997\n",
      "==============================================================================\n"
     ]
    }
   ],
   "execution_count": 11
  },
  {
   "cell_type": "code",
   "source": [
    "full_dataset[\"Diferencia\"] = full_dataset[\"Revenue\"] - (\n",
    "    results.params[\"Anterior\"] * full_dataset[\"Anterior\"] + results.params[\"Intercept\"]\n",
    ")"
   ],
   "metadata": {
    "id": "BeKEjU90yo20",
    "ExecuteTime": {
     "end_time": "2024-09-17T16:19:11.379460Z",
     "start_time": "2024-09-17T16:19:11.375570Z"
    }
   },
   "outputs": [],
   "execution_count": 12
  },
  {
   "cell_type": "code",
   "source": [
    "full_tratado_dif = full_dataset[\"Diferencia\"][full_dataset[\"Tratamiento\"]]\n",
    "full_control_dif = full_dataset[\"Diferencia\"][~full_dataset[\"Tratamiento\"]]\n",
    "print(sp.stats.ttest_ind(full_tratado_dif, full_control_dif))\n",
    "print(full_tratado_dif.mean() - full_control_dif.mean())"
   ],
   "metadata": {
    "colab": {
     "base_uri": "https://localhost:8080/"
    },
    "id": "ctoTVwUjlcr-",
    "outputId": "779dafeb-68da-4d39-fe2f-0290446ad89c",
    "ExecuteTime": {
     "end_time": "2024-09-17T16:19:11.407780Z",
     "start_time": "2024-09-17T16:19:11.380235Z"
    }
   },
   "outputs": [
    {
     "name": "stdout",
     "output_type": "stream",
     "text": [
      "TtestResult(statistic=np.float64(62.76870106383935), pvalue=np.float64(0.0), df=np.float64(998.0))\n",
      "0.3915525472064363\n"
     ]
    }
   ],
   "execution_count": 13
  },
  {
   "cell_type": "code",
   "source": [
    "fig, ax = plt.subplots()\n",
    "ax.hist(full_tratado_dif)\n",
    "ax.hist(full_control_dif)"
   ],
   "metadata": {
    "colab": {
     "base_uri": "https://localhost:8080/",
     "height": 517
    },
    "id": "T5oGdVr2n91o",
    "outputId": "593c367a-5222-4477-9a38-a2d71f0f007a",
    "ExecuteTime": {
     "end_time": "2024-09-17T16:19:11.511805Z",
     "start_time": "2024-09-17T16:19:11.408631Z"
    }
   },
   "outputs": [
    {
     "data": {
      "text/plain": [
       "(array([  2.,  11.,  28.,  53., 102., 129., 103.,  52.,  26.,   6.]),\n",
       " array([-0.50902544, -0.45008202, -0.3911386 , -0.33219517, -0.27325175,\n",
       "        -0.21430833, -0.15536491, -0.09642149, -0.03747807,  0.02146535,\n",
       "         0.08040877]),\n",
       " <BarContainer object of 10 artists>)"
      ]
     },
     "execution_count": 14,
     "metadata": {},
     "output_type": "execute_result"
    },
    {
     "data": {
      "text/plain": [
       "<Figure size 640x480 with 1 Axes>"
      ],
      "image/png": "[encoded data removed]"
     },
     "metadata": {},
     "output_type": "display_data"
    }
   ],
   "execution_count": 14
  },
  {
   "cell_type": "code",
   "source": [
    "full_dataset[\"Diferencia\"] = full_dataset[\"Revenue\"] - full_dataset[\"Anterior\"]\n",
    "full_tratado = full_dataset[full_dataset[\"Tratamiento\"]]\n",
    "full_control = full_dataset[~full_dataset[\"Tratamiento\"]]"
   ],
   "metadata": {
    "id": "DkSbFurhl6sA",
    "ExecuteTime": {
     "end_time": "2024-09-17T16:19:11.516001Z",
     "start_time": "2024-09-17T16:19:11.512711Z"
    }
   },
   "outputs": [],
   "execution_count": 15
  },
  {
   "cell_type": "code",
   "source": [
    "model = ols(\"Diferencia ~ Tratamiento\", data=full_dataset)\n",
    "results = model.fit()\n",
    "\n",
    "print(results.summary().tables[1])"
   ],
   "metadata": {
    "colab": {
     "base_uri": "https://localhost:8080/"
    },
    "id": "1a2csflNm7WP",
    "outputId": "450b133e-4e12-476c-bff1-669e20b7ac99",
    "ExecuteTime": {
     "end_time": "2024-09-17T16:19:11.533013Z",
     "start_time": "2024-09-17T16:19:11.516793Z"
    }
   },
   "outputs": [
    {
     "name": "stdout",
     "output_type": "stream",
     "text": [
      "=======================================================================================\n",
      "                          coef    std err          t      P>|t|      [0.025      0.975]\n",
      "---------------------------------------------------------------------------------------\n",
      "Intercept               0.0104      0.004      2.396      0.017       0.002       0.019\n",
      "Tratamiento[T.True]     0.3942      0.006     63.626      0.000       0.382       0.406\n",
      "=======================================================================================\n"
     ]
    }
   ],
   "execution_count": 16
  },
  {
   "cell_type": "code",
   "source": [
    "model = ols(\"Revenue ~ Tratamiento + Anterior\", data=full_dataset)\n",
    "results = model.fit()\n",
    "\n",
    "print(results.summary().tables[1])"
   ],
   "metadata": {
    "colab": {
     "base_uri": "https://localhost:8080/"
    },
    "id": "FbAKV5PtnG6a",
    "outputId": "7e1ffd6e-9ba1-4fe6-a56c-4ab87622a4b6",
    "ExecuteTime": {
     "end_time": "2024-09-17T16:19:11.559301Z",
     "start_time": "2024-09-17T16:19:11.533728Z"
    }
   },
   "outputs": [
    {
     "name": "stdout",
     "output_type": "stream",
     "text": [
      "=======================================================================================\n",
      "                          coef    std err          t      P>|t|      [0.025      0.975]\n",
      "---------------------------------------------------------------------------------------\n",
      "Intercept               0.0445      0.017      2.618      0.009       0.011       0.078\n",
      "Tratamiento[T.True]     0.3933      0.006     63.448      0.000       0.381       0.405\n",
      "Anterior                0.9967      0.002    621.339      0.000       0.994       1.000\n",
      "=======================================================================================\n"
     ]
    }
   ],
   "execution_count": 17
  },
  {
   "cell_type": "markdown",
   "source": [
    "## ANCOVA2"
   ],
   "metadata": {
    "id": "eInYSQ0fzg2n"
   }
  },
  {
   "cell_type": "code",
   "source": [
    "np.random.seed(171)\n",
    "revenue_anterior = np.random.normal(loc=10, scale=2, size=usuarios)\n",
    "revenue_base_nuevo = np.random.normal(revenue_anterior, 0.1)\n",
    "tratamiento = np.random.random(size=usuarios) < 0.5\n",
    "revenue_nuevo = (\n",
    "    revenue_base_nuevo\n",
    "    + 0.02 * tratamiento\n",
    "    + 0.1 * (revenue_base_nuevo - np.mean(revenue_base_nuevo)) * tratamiento\n",
    ")\n",
    "full_dataset = pd.DataFrame(\n",
    "    {\"Tratamiento\": tratamiento, \"Anterior\": revenue_anterior, \"Revenue\": revenue_nuevo}\n",
    ")"
   ],
   "metadata": {
    "id": "-wi91Zb4zj98",
    "ExecuteTime": {
     "end_time": "2024-09-17T16:19:11.567228Z",
     "start_time": "2024-09-17T16:19:11.562732Z"
    }
   },
   "outputs": [],
   "execution_count": 18
  },
  {
   "cell_type": "code",
   "source": [
    "full_tratado = full_dataset[full_dataset[\"Tratamiento\"]]\n",
    "full_control = full_dataset[~full_dataset[\"Tratamiento\"]]\n",
    "\n",
    "fig, ax = plt.subplots()\n",
    "ax.plot(\n",
    "    full_tratado[\"Anterior\"],\n",
    "    full_tratado[\"Revenue\"],\n",
    "    label=\"Tratado\",\n",
    "    marker=\".\",\n",
    "    linestyle=\"none\",\n",
    ")\n",
    "ax.plot(\n",
    "    full_control[\"Anterior\"],\n",
    "    full_control[\"Revenue\"],\n",
    "    label=\"Control\",\n",
    "    marker=\".\",\n",
    "    linestyle=\"none\",\n",
    ")\n",
    "ax.legend()"
   ],
   "metadata": {
    "id": "Qv9Ph9UX3s1R",
    "colab": {
     "base_uri": "https://localhost:8080/",
     "height": 447
    },
    "outputId": "6cff07ff-7638-45a3-99ec-63c251fa80e2",
    "ExecuteTime": {
     "end_time": "2024-09-17T16:19:11.701575Z",
     "start_time": "2024-09-17T16:19:11.568154Z"
    }
   },
   "outputs": [
    {
     "data": {
      "text/plain": [
       "<matplotlib.legend.Legend at 0x7fec68f5eb10>"
      ]
     },
     "execution_count": 19,
     "metadata": {},
     "output_type": "execute_result"
    },
    {
     "data": {
      "text/plain": [
       "<Figure size 640x480 with 1 Axes>"
      ],
      "image/png": "[encoded data removed]"
     },
     "metadata": {},
     "output_type": "display_data"
    }
   ],
   "execution_count": 19
  },
  {
   "cell_type": "code",
   "source": [
    "full_dataset[\"Desplazado\"] = full_dataset[\"Anterior\"] - np.mean(\n",
    "    full_dataset[\"Anterior\"]\n",
    ")\n",
    "model = ols(\n",
    "    \"Revenue ~ Tratamiento + Desplazado + Desplazado:Tratamiento\", data=full_dataset\n",
    ")\n",
    "results = model.fit()\n",
    "\n",
    "print(results.summary().tables[1])"
   ],
   "metadata": {
    "colab": {
     "base_uri": "https://localhost:8080/"
    },
    "id": "bUQj8nXNzV1N",
    "outputId": "c49dd1fb-0ce1-4b60-f10a-9473da97dd3a",
    "ExecuteTime": {
     "end_time": "2024-09-17T16:19:11.720968Z",
     "start_time": "2024-09-17T16:19:11.704809Z"
    }
   },
   "outputs": [
    {
     "name": "stdout",
     "output_type": "stream",
     "text": [
      "==================================================================================================\n",
      "                                     coef    std err          t      P>|t|      [0.025      0.975]\n",
      "--------------------------------------------------------------------------------------------------\n",
      "Intercept                         10.1230      0.005   2229.878      0.000      10.114      10.132\n",
      "Tratamiento[T.True]                0.0131      0.007      2.019      0.044       0.000       0.026\n",
      "Desplazado                         0.9935      0.002    433.837      0.000       0.989       0.998\n",
      "Desplazado:Tratamiento[T.True]     0.1070      0.003     31.704      0.000       0.100       0.114\n",
      "==================================================================================================\n"
     ]
    }
   ],
   "execution_count": 20
  },
  {
   "cell_type": "code",
   "source": [
    "model = ols(\"Revenue ~ Tratamiento + Desplazado\", data=full_dataset)\n",
    "results = model.fit()\n",
    "\n",
    "print(results.summary().tables[1])"
   ],
   "metadata": {
    "colab": {
     "base_uri": "https://localhost:8080/"
    },
    "id": "MIiocLJIondG",
    "outputId": "95c93ec0-f8cb-4384-e01a-701e802a0cf0",
    "ExecuteTime": {
     "end_time": "2024-09-17T16:19:11.741840Z",
     "start_time": "2024-09-17T16:19:11.723160Z"
    }
   },
   "outputs": [
    {
     "name": "stdout",
     "output_type": "stream",
     "text": [
      "=======================================================================================\n",
      "                          coef    std err          t      P>|t|      [0.025      0.975]\n",
      "---------------------------------------------------------------------------------------\n",
      "Intercept              10.1167      0.006   1574.447      0.000      10.104      10.129\n",
      "Tratamiento[T.True]     0.0117      0.009      1.270      0.204      -0.006       0.030\n",
      "Desplazado              1.0427      0.002    437.606      0.000       1.038       1.047\n",
      "=======================================================================================\n"
     ]
    }
   ],
   "execution_count": 21
  },
  {
   "cell_type": "code",
   "source": [
    "np.random.seed(171)\n",
    "revenue_anterior = np.random.normal(loc=10, scale=2, size=usuarios)\n",
    "revenue_base_nuevo = np.random.normal(revenue_anterior, 0.1)\n",
    "tratamiento = np.random.random(size=usuarios) < 0.5\n",
    "revenue_nuevo = revenue_base_nuevo + 0.02 * tratamiento\n",
    "full_dataset = pd.DataFrame(\n",
    "    {\"Tratamiento\": tratamiento, \"Anterior\": revenue_anterior, \"Revenue\": revenue_nuevo}\n",
    ")"
   ],
   "metadata": {
    "id": "7ZTH01kWzt5f",
    "ExecuteTime": {
     "end_time": "2024-09-17T16:19:11.750617Z",
     "start_time": "2024-09-17T16:19:11.742730Z"
    }
   },
   "outputs": [],
   "execution_count": 22
  },
  {
   "cell_type": "code",
   "source": [
    "full_tratado = full_dataset[full_dataset[\"Tratamiento\"]]\n",
    "full_control = full_dataset[~full_dataset[\"Tratamiento\"]]\n",
    "\n",
    "fig, ax = plt.subplots()\n",
    "ax.plot(\n",
    "    full_tratado[\"Anterior\"],\n",
    "    full_tratado[\"Revenue\"],\n",
    "    label=\"Tratado\",\n",
    "    marker=\".\",\n",
    "    linestyle=\"none\",\n",
    ")\n",
    "ax.plot(\n",
    "    full_control[\"Anterior\"],\n",
    "    full_control[\"Revenue\"],\n",
    "    label=\"Control\",\n",
    "    marker=\".\",\n",
    "    linestyle=\"none\",\n",
    ")\n",
    "ax.legend()"
   ],
   "metadata": {
    "colab": {
     "base_uri": "https://localhost:8080/",
     "height": 447
    },
    "id": "jK8GBP920wVj",
    "outputId": "c6ddc0d2-522b-45da-d5f9-9b2bd8b59f0d",
    "ExecuteTime": {
     "end_time": "2024-09-17T16:19:11.872202Z",
     "start_time": "2024-09-17T16:19:11.751598Z"
    }
   },
   "outputs": [
    {
     "data": {
      "text/plain": [
       "<matplotlib.legend.Legend at 0x7fec68dbbb50>"
      ]
     },
     "execution_count": 23,
     "metadata": {},
     "output_type": "execute_result"
    },
    {
     "data": {
      "text/plain": [
       "<Figure size 640x480 with 1 Axes>"
      ],
      "image/png": "[encoded data removed]"
     },
     "metadata": {},
     "output_type": "display_data"
    }
   ],
   "execution_count": 23
  },
  {
   "cell_type": "code",
   "source": [
    "full_dataset[\"Desplazado\"] = full_dataset[\"Anterior\"] - np.mean(\n",
    "    full_dataset[\"Anterior\"]\n",
    ")\n",
    "model = ols(\n",
    "    \"Revenue ~ Tratamiento + Desplazado + Desplazado:Tratamiento\", data=full_dataset\n",
    ")\n",
    "results = model.fit()\n",
    "\n",
    "print(results.summary().tables[1])"
   ],
   "metadata": {
    "colab": {
     "base_uri": "https://localhost:8080/"
    },
    "id": "xcQ7oFCK2q-r",
    "outputId": "bb01be6b-e770-43e2-f94d-dfdae19e7521",
    "ExecuteTime": {
     "end_time": "2024-09-17T16:19:11.891354Z",
     "start_time": "2024-09-17T16:19:11.873243Z"
    }
   },
   "outputs": [
    {
     "name": "stdout",
     "output_type": "stream",
     "text": [
      "==================================================================================================\n",
      "                                     coef    std err          t      P>|t|      [0.025      0.975]\n",
      "--------------------------------------------------------------------------------------------------\n",
      "Intercept                         10.1230      0.004   2342.378      0.000      10.114      10.131\n",
      "Tratamiento[T.True]                0.0134      0.006      2.168      0.030       0.001       0.026\n",
      "Desplazado                         0.9935      0.002    455.724      0.000       0.989       0.998\n",
      "Desplazado:Tratamiento[T.True]     0.0069      0.003      2.160      0.031       0.001       0.013\n",
      "==================================================================================================\n"
     ]
    }
   ],
   "execution_count": 24
  },
  {
   "cell_type": "code",
   "source": [
    "model = ols(\"Revenue ~ Tratamiento + Desplazado\", data=full_dataset)\n",
    "results = model.fit()\n",
    "\n",
    "print(results.summary().tables[1])"
   ],
   "metadata": {
    "colab": {
     "base_uri": "https://localhost:8080/"
    },
    "id": "SdVeuIlp34co",
    "outputId": "c680d51a-ae66-46c4-dce1-8ca9ea06e1d5",
    "ExecuteTime": {
     "end_time": "2024-09-17T16:19:11.906626Z",
     "start_time": "2024-09-17T16:19:11.892468Z"
    }
   },
   "outputs": [
    {
     "name": "stdout",
     "output_type": "stream",
     "text": [
      "=======================================================================================\n",
      "                          coef    std err          t      P>|t|      [0.025      0.975]\n",
      "---------------------------------------------------------------------------------------\n",
      "Intercept              10.1226      0.004   2340.187      0.000      10.114      10.131\n",
      "Tratamiento[T.True]     0.0133      0.006      2.149      0.032       0.001       0.025\n",
      "Desplazado              0.9967      0.002    621.339      0.000       0.994       1.000\n",
      "=======================================================================================\n"
     ]
    }
   ],
   "execution_count": 25
  },
  {
   "cell_type": "code",
   "source": [],
   "metadata": {
    "id": "9Jkor2FX350-",
    "ExecuteTime": {
     "end_time": "2024-09-17T16:19:11.908767Z",
     "start_time": "2024-09-17T16:19:11.907371Z"
    }
   },
   "outputs": [],
   "execution_count": 25
  }
 ]
}
